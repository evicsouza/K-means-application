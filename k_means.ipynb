{
  "nbformat": 4,
  "nbformat_minor": 0,
  "metadata": {
    "colab": {
      "name": "k-means",
      "provenance": [],
      "collapsed_sections": [],
      "authorship_tag": "ABX9TyO3oy5gTmq9nTaHbiNXmEgo",
      "include_colab_link": true
    },
    "kernelspec": {
      "name": "python3",
      "display_name": "Python 3"
    },
    "language_info": {
      "name": "python"
    }
  },
  "cells": [
    {
      "cell_type": "markdown",
      "metadata": {
        "id": "view-in-github",
        "colab_type": "text"
      },
      "source": [
        "<a href=\"https://colab.research.google.com/github/evicsouza/K-means-application/blob/main/k_means.ipynb\" target=\"_parent\"><img src=\"https://colab.research.google.com/assets/colab-badge.svg\" alt=\"Open In Colab\"/></a>"
      ]
    },
    {
      "cell_type": "code",
      "execution_count": 10,
      "metadata": {
        "id": "4MK149mepJLD",
        "colab": {
          "base_uri": "https://localhost:8080/",
          "height": 269
        },
        "outputId": "83326729-db81-449b-da9b-55886a8e1ec2"
      },
      "outputs": [
        {
          "output_type": "display_data",
          "data": {
            "text/plain": [
              "<Figure size 432x288 with 1 Axes>"
            ],
            "image/png": "[encoded data removed]"
          },
          "metadata": {
            "needs_background": "light"
          }
        }
      ],
      "source": [
        "import numpy as np\n",
        "from matplotlib import pyplot as plt\n",
        "from sklearn.cluster import KMeans\n",
        "\n",
        "\n",
        "dataset = np.array([\n",
        "                    [(1.9),(7.3)],\n",
        "                    [(3.4),(7.5)],\n",
        "                    [(2.5),(2.8)],\n",
        "                    [(2.5),(2.8)],\n",
        "                    [(1.5),(6.5)],\n",
        "                    [(2.2),(5.8)],\n",
        "                    [(3.4),(5.2)],\n",
        "                    [(3.6),(4.0)],\n",
        "                    [(5.0),(3.2)],\n",
        "                    [(4.5),(3.4)],\n",
        "                    [(6.0),(2.6)],\n",
        "                    [(1.9),(3.0)],\n",
        "                    [(1.0),(2.7)],\n",
        "                    [(1.9),(2.4)],\n",
        "                    [(0.8),(2.0)],\n",
        "                    [(1.6),(1.8)],\n",
        "                    [(1.0),(1.0)]\n",
        "])\n",
        "plt.scatter(dataset[:,1], dataset[:,0])\n",
        "plt.xlim(1, 9)\n",
        "plt.ylim(1, 9)\n",
        "plt.grid()\n"
      ]
    },
    {
      "cell_type": "code",
      "source": [
        "kmeans = KMeans(n_clusters = 3, init = 'k-means++', n_init = 10, max_iter = 300)\n",
        "pred_y = kmeans.fit_predict(dataset)\n",
        "plt.scatter(dataset[:,1], dataset[:,0], c = pred_y)\n",
        "plt.xlim(1, 9)\n",
        "plt.ylim(1, 9)\n",
        "plt.grid()\n",
        "\n",
        "plt.scatter(kmeans.cluster_centers_[:,1],kmeans.cluster_centers_[:,0], s = 70, c = 'red')\n",
        "plt.show()"
      ],
      "metadata": {
        "colab": {
          "base_uri": "https://localhost:8080/",
          "height": 269
        },
        "id": "BvhlMvhosryt",
        "outputId": "4ada87e0-e6e9-4f8e-ea71-5fb285d299bc"
      },
      "execution_count": 67,
      "outputs": [
        {
          "output_type": "display_data",
          "data": {
            "text/plain": [
              "<Figure size 432x288 with 1 Axes>"
            ],
            "image/png": "[encoded data removed]"
          },
          "metadata": {
            "needs_background": "light"
          }
        }
      ]
    },
    {
      "cell_type": "code",
      "source": [
        "kmeans = KMeans(n_clusters = 3, init = 'random', n_init = 10, max_iter = 500)\n",
        "pred_y = kmeans.fit_predict(dataset)\n",
        "plt.scatter(dataset[:,1], dataset[:,0], c = pred_y)\n",
        "plt.xlim(1, 9)\n",
        "plt.ylim(1, 9)\n",
        "plt.grid()\n",
        "\n",
        "plt.scatter(kmeans.cluster_centers_[:,1],kmeans.cluster_centers_[:,0], s = 70, c = 'red')\n",
        "plt.show()"
      ],
      "metadata": {
        "colab": {
          "base_uri": "https://localhost:8080/",
          "height": 269
        },
        "id": "BrZTWoUluicb",
        "outputId": "258bbeac-56f6-43d9-de59-2e5ba00bcd60"
      },
      "execution_count": 64,
      "outputs": [
        {
          "output_type": "display_data",
          "data": {
            "text/plain": [
              "<Figure size 432x288 with 1 Axes>"
            ],
            "image/png": "[encoded data removed]"
          },
          "metadata": {
            "needs_background": "light"
          }
        }
      ]
    }
  ]
}